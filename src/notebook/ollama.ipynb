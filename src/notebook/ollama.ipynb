{
 "cells": [
  {
   "cell_type": "markdown",
   "metadata": {},
   "source": [
    "## Ollama"
   ]
  },
  {
   "cell_type": "markdown",
   "metadata": {},
   "source": [
    "### 설치 방법\n",
    "- reference: https://ollama.com/download/linux\n",
    "\n",
    "### 모델 다운로드\n",
    "```\n",
    "ollama pull <model_name> # 모델 다운로드\n",
    "ollama run <model_name> # 모델 다운로드 후 실행\n",
    "ollama list # 모델 리스트 확인\n",
    "```\n",
    "\n",
    "### 로컬 모델 사용 방법\n",
    "```\n",
    "ollama create EEVE-Korean-10.8B -f EEVE-Korean-Instruct-10.8B-v1.0-GGUF/Modelfile\n",
    "```"
   ]
  },
  {
   "cell_type": "code",
   "execution_count": 1,
   "metadata": {},
   "outputs": [],
   "source": [
    "from langchain_ollama import ChatOllama\n",
    "from langchain_core.output_parsers import StrOutputParser\n",
    "from langchain_core.prompts import ChatPromptTemplate"
   ]
  },
  {
   "cell_type": "code",
   "execution_count": 3,
   "metadata": {},
   "outputs": [
    {
     "name": "stdout",
     "output_type": "stream",
     "text": [
      "Deep Learning (DL)은Machine Learning (ML)과 Convergence Technology을 사용한 AI(machine intelligence)technology의 범위이다. Deep Learning은 지속적으로 자주 발생하는 ML 기법으로, 많은 ML công현법들이 개선되어 다양한 장점을 가지고 있다.\n",
      "\n",
      " Deep Learning은 신경_network(Deep Neural Network, DNN) 이라는 구조로 구성 된Machine Learning의 종류 중 하나로, 이를 통해 complex한 dữ형, 특히 비선형 데이터를 시각화 할 수 있으며, 이러한 데이터를 예측, 인식, 또는 추론에 사용 할 수 있다. Deep Learning은 여러 layers가 있는 신경Network을 사용하여(data)에게 다양한 전달 방법을 제공하는 것이 특징이다. \n",
      "\n",
      "이러한 특성은 비선형数据에 대한 강력한 generalizeability를 제공한다.\n"
     ]
    }
   ],
   "source": [
    "# LangChain이 지원하는 다른 채팅 모델을 사용. 여기서는 Ollama를 사용\n",
    "llm = ChatOllama(model='llama3.2:1B')\n",
    "\n",
    "# 주제를 기반으로 짧은 농담을 요청하는 프롬프트 템플릿을 생성\n",
    "prompt = ChatPromptTemplate.from_template(\"{topic}에 대하여 간략히 설명해 줘.\")\n",
    "\n",
    "# LangChain 표현식 언어 체인 구문을 사용\n",
    "chain = prompt | llm | StrOutputParser()\n",
    "\n",
    "print(chain.invoke({\"topic\": \"Deep Learning\"}))"
   ]
  },
  {
   "cell_type": "code",
   "execution_count": null,
   "metadata": {},
   "outputs": [],
   "source": []
  }
 ],
 "metadata": {
  "kernelspec": {
   "display_name": "rag",
   "language": "python",
   "name": "python3"
  },
  "language_info": {
   "codemirror_mode": {
    "name": "ipython",
    "version": 3
   },
   "file_extension": ".py",
   "mimetype": "text/x-python",
   "name": "python",
   "nbconvert_exporter": "python",
   "pygments_lexer": "ipython3",
   "version": "3.12.3"
  }
 },
 "nbformat": 4,
 "nbformat_minor": 2
}
